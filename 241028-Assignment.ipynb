{
 "cells": [
  {
   "cell_type": "markdown",
   "metadata": {},
   "source": [
    "### 문제 1"
   ]
  },
  {
   "cell_type": "code",
   "execution_count": 6,
   "metadata": {},
   "outputs": [
    {
     "name": "stdout",
     "output_type": "stream",
     "text": [
      "asd\n"
     ]
    }
   ],
   "source": [
    "result = input()\n",
    "print(result)"
   ]
  },
  {
   "cell_type": "code",
   "execution_count": 3,
   "metadata": {},
   "outputs": [
    {
     "name": "stdout",
     "output_type": "stream",
     "text": [
      "ASD, ASD, ASD\n"
     ]
    }
   ],
   "source": [
    "result = input()\n",
    "result = result.upper()\n",
    "length = len(result)\n",
    "\n",
    "\n",
    "index = 0\n",
    "output = \"\"\n",
    "\n",
    "while index < length:\n",
    "    output += result\n",
    "    index += 1  \n",
    "    if index < length:\n",
    "        output += \", \" \n",
    "\n",
    "# 결과 출력\n",
    "print(output)\n"
   ]
  },
  {
   "cell_type": "markdown",
   "metadata": {},
   "source": [
    "### 문제 2"
   ]
  },
  {
   "cell_type": "code",
   "execution_count": 10,
   "metadata": {},
   "outputs": [
    {
     "name": "stdout",
     "output_type": "stream",
     "text": [
      "1 => 1\n",
      "9 => 729\n",
      "8 => 512\n",
      "2 => 8\n",
      "3 => 27\n",
      "7 => 343\n"
     ]
    }
   ],
   "source": [
    "number_str = input(\"Enter a number: \")\n",
    "\n",
    "\n",
    "for char in number_str:\n",
    "    digit = int(char) \n",
    "    cube = digit ** 3 \n",
    "    print(f\"{digit} => {cube}\")\n"
   ]
  },
  {
   "cell_type": "code",
   "execution_count": 15,
   "metadata": {},
   "outputs": [
    {
     "name": "stdout",
     "output_type": "stream",
     "text": [
      "['1', '2', '3', '4', '5']\n"
     ]
    }
   ],
   "source": [
    "target = [1,2,3,4,5]\n",
    "print(list(map(lambda x: str(x) ,target)))"
   ]
  },
  {
   "cell_type": "code",
   "execution_count": 19,
   "metadata": {},
   "outputs": [
    {
     "name": "stdout",
     "output_type": "stream",
     "text": [
      "[1, -2, 9, -4, 25]\n"
     ]
    }
   ],
   "source": [
    "target = [1, -2, 3, -4, 5]\n",
    "\n",
    "result = list(map(lambda x: x ** 2 if x > 0 else x, target))\n",
    "\n",
    "print(result)\n"
   ]
  },
  {
   "cell_type": "code",
   "execution_count": 21,
   "metadata": {},
   "outputs": [],
   "source": [
    "import glob\n",
    "import os\n",
    "\n",
    "def combine_files_in_directory(directory, output_file, *args, **kwargs):\n",
    "    # 시작 헤더와 끝 문장을 kwargs에서 받아옵니다.\n",
    "    start_header = kwargs.get(\"start_header\", \"\")\n",
    "    end_footer = kwargs.get(\"end_footer\", \"\")\n",
    "\n",
    "    # with 문을 사용하여 output_file을 쓰기 모드로 열기\n",
    "    with open(output_file, 'w') as outfile:\n",
    "        # 시작 헤더가 있는 경우 기록\n",
    "        if start_header:\n",
    "            outfile.write(start_header + \"\\n\")\n",
    "        \n",
    "        # args에 전달된 내용을 헤더로 기록\n",
    "        if args:\n",
    "            header = \" \".join(args)\n",
    "            outfile.write(header + \"\\n\")\n",
    "\n",
    "        # 디렉토리에서 .csv와 .txt 파일 찾기\n",
    "        for filepath in glob.glob(os.path.join(directory, '*.csv')) + glob.glob(os.path.join(directory, '*.txt')):\n",
    "            with open(filepath, 'r') as infile:\n",
    "                # 파일 내용을 한 줄씩 읽어서 output_file에 기록\n",
    "                for line in infile:\n",
    "                    outfile.write(line)\n",
    "\n",
    "        # 끝 문장이 있는 경우 기록\n",
    "        if end_footer:\n",
    "            outfile.write(end_footer + \"\\n\")\n",
    "\n",
    "# 사용자로부터 대상 디렉토리와 헤더 입력 받기\n",
    "directory = input(\"Enter the directory path (press Enter for current directory): \")\n",
    "if not directory:\n",
    "    directory = os.getcwd()  # 현재 디렉토리를 기본값으로 설정\n",
    "\n",
    "# 결과 파일과 헤더 설정\n",
    "output_file = 'output_file.txt'\n",
    "combine_files_in_directory(\n",
    "    directory,\n",
    "    output_file,\n",
    "    \"Header1\", \"Header2\",                 # 헤더로 사용할 위치 인자\n",
    "    start_header=\"--- Start of Combined File ---\",  # 시작 헤더\n",
    "    end_footer=\"--- End of Combined File ---\"       # 끝 문장\n",
    ")\n"
   ]
  }
 ],
 "metadata": {
  "kernelspec": {
   "display_name": "venv",
   "language": "python",
   "name": "python3"
  },
  "language_info": {
   "codemirror_mode": {
    "name": "ipython",
    "version": 3
   },
   "file_extension": ".py",
   "mimetype": "text/x-python",
   "name": "python",
   "nbconvert_exporter": "python",
   "pygments_lexer": "ipython3",
   "version": "3.11.10"
  }
 },
 "nbformat": 4,
 "nbformat_minor": 2
}
